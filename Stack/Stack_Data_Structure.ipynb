{
  "cells": [
    {
      "cell_type": "markdown",
      "metadata": {
        "id": "w7eibFczhhdt"
      },
      "source": [
        "**Implementation of stack using list (Dynamic List)**"
      ]
    },
    {
      "cell_type": "code",
      "execution_count": null,
      "metadata": {
        "id": "afksxAeNhAAH"
      },
      "outputs": [],
      "source": [
        "stack = []\n",
        "stack.append('https://www.google.com/')\n",
        "stack.append('https://leetcode.com/')\n",
        "stack.append('https://leetcode.com/problemset/all/')\n",
        "stack.append('https://leetcode.com/problems/two-sum/')"
      ]
    },
    {
      "cell_type": "code",
      "execution_count": null,
      "metadata": {
        "colab": {
          "base_uri": "https://localhost:8080/",
          "height": 36
        },
        "id": "Oh3nmz87hU6K",
        "outputId": "88796ccb-3182-4beb-9aec-87cbe8b2ca22"
      },
      "outputs": [
        {
          "data": {
            "application/vnd.google.colaboratory.intrinsic+json": {
              "type": "string"
            },
            "text/plain": [
              "'https://leetcode.com/problems/two-sum/'"
            ]
          },
          "execution_count": 2,
          "metadata": {},
          "output_type": "execute_result"
        }
      ],
      "source": [
        "stack.pop()"
      ]
    },
    {
      "cell_type": "code",
      "execution_count": null,
      "metadata": {
        "colab": {
          "base_uri": "https://localhost:8080/"
        },
        "id": "b1t9wBAZhcRD",
        "outputId": "cbf8dadc-0270-4cdc-b9b7-d4c32a681b92"
      },
      "outputs": [
        {
          "data": {
            "text/plain": [
              "['https://www.google.com/',\n",
              " 'https://leetcode.com/',\n",
              " 'https://leetcode.com/problemset/all/']"
            ]
          },
          "execution_count": 3,
          "metadata": {},
          "output_type": "execute_result"
        }
      ],
      "source": [
        "stack"
      ]
    },
    {
      "cell_type": "markdown",
      "metadata": {
        "id": "ZT0J4CjBiBEY"
      },
      "source": [
        "**Implementation of stack using deque**"
      ]
    },
    {
      "cell_type": "code",
      "execution_count": null,
      "metadata": {
        "id": "zOUhFkBohd08"
      },
      "outputs": [],
      "source": [
        "from collections import deque\n",
        "stack = deque()"
      ]
    },
    {
      "cell_type": "code",
      "execution_count": null,
      "metadata": {
        "colab": {
          "base_uri": "https://localhost:8080/"
        },
        "id": "VU4Yo64QiKxd",
        "outputId": "2dfb6665-0532-42c9-caf4-0446b9ef24d8"
      },
      "outputs": [
        {
          "data": {
            "text/plain": [
              "['__add__',\n",
              " '__bool__',\n",
              " '__class__',\n",
              " '__contains__',\n",
              " '__copy__',\n",
              " '__delattr__',\n",
              " '__delitem__',\n",
              " '__dir__',\n",
              " '__doc__',\n",
              " '__eq__',\n",
              " '__format__',\n",
              " '__ge__',\n",
              " '__getattribute__',\n",
              " '__getitem__',\n",
              " '__gt__',\n",
              " '__hash__',\n",
              " '__iadd__',\n",
              " '__imul__',\n",
              " '__init__',\n",
              " '__init_subclass__',\n",
              " '__iter__',\n",
              " '__le__',\n",
              " '__len__',\n",
              " '__lt__',\n",
              " '__mul__',\n",
              " '__ne__',\n",
              " '__new__',\n",
              " '__reduce__',\n",
              " '__reduce_ex__',\n",
              " '__repr__',\n",
              " '__reversed__',\n",
              " '__rmul__',\n",
              " '__setattr__',\n",
              " '__setitem__',\n",
              " '__sizeof__',\n",
              " '__str__',\n",
              " '__subclasshook__',\n",
              " 'append',\n",
              " 'appendleft',\n",
              " 'clear',\n",
              " 'copy',\n",
              " 'count',\n",
              " 'extend',\n",
              " 'extendleft',\n",
              " 'index',\n",
              " 'insert',\n",
              " 'maxlen',\n",
              " 'pop',\n",
              " 'popleft',\n",
              " 'remove',\n",
              " 'reverse',\n",
              " 'rotate']"
            ]
          },
          "execution_count": 5,
          "metadata": {},
          "output_type": "execute_result"
        }
      ],
      "source": [
        "dir(stack)"
      ]
    },
    {
      "cell_type": "code",
      "execution_count": null,
      "metadata": {
        "id": "ld1OtwC1iNZU"
      },
      "outputs": [],
      "source": [
        "stack.append('https://www.google.com/')\n",
        "stack.append('https://leetcode.com/')\n",
        "stack.append('https://leetcode.com/problemset/all/')\n",
        "stack.append('https://leetcode.com/problems/two-sum/')"
      ]
    },
    {
      "cell_type": "code",
      "execution_count": null,
      "metadata": {
        "colab": {
          "base_uri": "https://localhost:8080/"
        },
        "id": "CurlxJFkiWjj",
        "outputId": "6defc52d-92dc-4f36-89c7-1d11b8783b2c"
      },
      "outputs": [
        {
          "data": {
            "text/plain": [
              "deque(['https://www.google.com/',\n",
              "       'https://leetcode.com/',\n",
              "       'https://leetcode.com/problemset/all/',\n",
              "       'https://leetcode.com/problems/two-sum/'])"
            ]
          },
          "execution_count": 7,
          "metadata": {},
          "output_type": "execute_result"
        }
      ],
      "source": [
        "stack"
      ]
    },
    {
      "cell_type": "code",
      "execution_count": null,
      "metadata": {
        "colab": {
          "base_uri": "https://localhost:8080/",
          "height": 36
        },
        "id": "TuaPjs0ViXiD",
        "outputId": "50839288-acc7-48e7-c277-160c01cf7d08"
      },
      "outputs": [
        {
          "data": {
            "application/vnd.google.colaboratory.intrinsic+json": {
              "type": "string"
            },
            "text/plain": [
              "'https://leetcode.com/problems/two-sum/'"
            ]
          },
          "execution_count": 8,
          "metadata": {},
          "output_type": "execute_result"
        }
      ],
      "source": [
        "stack.pop()"
      ]
    },
    {
      "cell_type": "markdown",
      "metadata": {
        "id": "GDyuFzorm4fH"
      },
      "source": [
        "Interview Question: Given a string s contains just the characters '(', ')', '{', '}', '[', ']', determine if the input string is valid.\n",
        "\n",
        "{[]} - valid\n",
        "\n",
        "[}] - invalid"
      ]
    },
    {
      "cell_type": "code",
      "execution_count": null,
      "metadata": {
        "colab": {
          "base_uri": "https://localhost:8080/"
        },
        "id": "y1Bt98-oiaRz",
        "outputId": "e7998f35-a82e-4362-fdf6-ad025ce96400"
      },
      "outputs": [
        {
          "name": "stdout",
          "output_type": "stream",
          "text": [
            "Valid Parenthesis\n"
          ]
        }
      ],
      "source": [
        "## Method definition\n",
        "def isValid(string):\n",
        "  ## write your code here\n",
        "  ## bracketMapping[\"(\"] = \")\"\n",
        "  ## bracketMapping[\"[\"] = \"]\"\n",
        "  ## bracketMapping[\"{\"] = \"}\"\n",
        "  ## stack[-1] = topmost element in your stack\n",
        "  bracketMapping = {\"(\":\")\", \"[\":\"]\", \"{\":\"}\"}\n",
        "  openParams = [\"(\", \"[\", \"{\"]\n",
        "  stack = []\n",
        "\n",
        "  for s in string:\n",
        "    if s in openParams:\n",
        "      stack.append(s)\n",
        "    elif stack and s == bracketMapping[stack[-1]]:\n",
        "      stack.pop()\n",
        "    else:\n",
        "      return False\n",
        "  return stack == []\n",
        "\n",
        "\n",
        "## Driver code\n",
        "string = \"(){}\"\n",
        "if isValid(string):\n",
        "  print(\"Valid Parenthesis\")\n",
        "else:\n",
        "  print(\"Invalid Parenthesis\")"
      ]
    },
    {
      "cell_type": "code",
      "execution_count": null,
      "metadata": {
        "id": "7GIkFirHxxgJ"
      },
      "outputs": [],
      "source": [
        "from collections import deque\n",
        "## pop, push, peek, is_empty, size\n",
        "class Stack:\n",
        "  def __init__(self):\n",
        "    self.container = deque()\n",
        "  ## insert an element inside the stack\n",
        "  def push(self, val):\n",
        "    return self.container.append(val)\n",
        "\n",
        "  ## return the top most element from the stack\n",
        "  def peek(self):\n",
        "    return self.container[-1]\n",
        "\n",
        "  ## check whether the stack is empty or not\n",
        "  def is_Empty(self):\n",
        "    return len(self.container) == 0\n",
        "  \n",
        "  ## check the size of the stack\n",
        "  def size(self):\n",
        "    return len(self.container)\n",
        "  \n",
        "  ## return the top most element from the stack\n",
        "  ## delete an element from the stack\n",
        "  def pop(self):\n",
        "    if self.is_Empty():\n",
        "      #print(\"Priya\")\n",
        "      return \"Stack is already empty\"\n",
        "    else:\n",
        "      return self.container.pop()"
      ]
    },
    {
      "cell_type": "code",
      "execution_count": null,
      "metadata": {
        "id": "MPuFFGU2Pv4Y"
      },
      "outputs": [],
      "source": [
        "## create an object of stack class\n",
        "s = Stack()\n",
        "s.push(5)\n",
        "s.push(10)\n",
        "s.push(15)\n",
        "s.push(20)"
      ]
    },
    {
      "cell_type": "code",
      "execution_count": null,
      "metadata": {
        "colab": {
          "base_uri": "https://localhost:8080/"
        },
        "id": "IvMmGX0iSOlp",
        "outputId": "99d63870-19e8-49a2-c267-8f5244ec2b3a"
      },
      "outputs": [
        {
          "data": {
            "text/plain": [
              "20"
            ]
          },
          "execution_count": 28,
          "metadata": {},
          "output_type": "execute_result"
        }
      ],
      "source": [
        "## check the topmost element in stack\n",
        "s.peek()"
      ]
    },
    {
      "cell_type": "code",
      "execution_count": null,
      "metadata": {
        "colab": {
          "base_uri": "https://localhost:8080/"
        },
        "id": "QOojp41gSVup",
        "outputId": "7ec253be-4381-4e47-861c-1ddbf2785670"
      },
      "outputs": [
        {
          "data": {
            "text/plain": [
              "20"
            ]
          },
          "execution_count": 29,
          "metadata": {},
          "output_type": "execute_result"
        }
      ],
      "source": [
        "## delete the topmost element in stack\n",
        "s.pop()"
      ]
    },
    {
      "cell_type": "code",
      "execution_count": null,
      "metadata": {
        "colab": {
          "base_uri": "https://localhost:8080/"
        },
        "id": "VD4qkiuDSevI",
        "outputId": "3a950ecb-56c0-41e7-a388-bb7fb398359f"
      },
      "outputs": [
        {
          "data": {
            "text/plain": [
              "15"
            ]
          },
          "execution_count": 30,
          "metadata": {},
          "output_type": "execute_result"
        }
      ],
      "source": [
        "s.peek()"
      ]
    },
    {
      "cell_type": "code",
      "execution_count": null,
      "metadata": {
        "colab": {
          "base_uri": "https://localhost:8080/"
        },
        "id": "pFYFsxfSSn7Y",
        "outputId": "d2d8f712-d38e-4c14-ff1e-07092b05b118"
      },
      "outputs": [
        {
          "data": {
            "text/plain": [
              "3"
            ]
          },
          "execution_count": 31,
          "metadata": {},
          "output_type": "execute_result"
        }
      ],
      "source": [
        "s.size()"
      ]
    },
    {
      "cell_type": "code",
      "execution_count": null,
      "metadata": {
        "colab": {
          "base_uri": "https://localhost:8080/"
        },
        "id": "Z5x0PyMmSqkv",
        "outputId": "d2d710db-0e51-4073-c199-dc867fe608e8"
      },
      "outputs": [
        {
          "data": {
            "text/plain": [
              "False"
            ]
          },
          "execution_count": 32,
          "metadata": {},
          "output_type": "execute_result"
        }
      ],
      "source": [
        "s.is_Empty()"
      ]
    },
    {
      "cell_type": "code",
      "execution_count": null,
      "metadata": {
        "colab": {
          "base_uri": "https://localhost:8080/"
        },
        "id": "aMNgWaprSwSw",
        "outputId": "2aac3177-86f3-46c5-bc1f-62909909cb80"
      },
      "outputs": [
        {
          "data": {
            "text/plain": [
              "15"
            ]
          },
          "execution_count": 33,
          "metadata": {},
          "output_type": "execute_result"
        }
      ],
      "source": [
        "s.pop()"
      ]
    },
    {
      "cell_type": "code",
      "execution_count": null,
      "metadata": {
        "colab": {
          "base_uri": "https://localhost:8080/"
        },
        "id": "eBKcpq9ITdDg",
        "outputId": "102ad7a9-106c-4abb-bece-c69fe1d10566"
      },
      "outputs": [
        {
          "data": {
            "text/plain": [
              "10"
            ]
          },
          "execution_count": 34,
          "metadata": {},
          "output_type": "execute_result"
        }
      ],
      "source": [
        "s.pop()"
      ]
    },
    {
      "cell_type": "code",
      "execution_count": null,
      "metadata": {
        "colab": {
          "base_uri": "https://localhost:8080/"
        },
        "id": "DgcjPi0yTenX",
        "outputId": "472c475b-9cb7-4cd2-c654-f82a57c3f1fa"
      },
      "outputs": [
        {
          "data": {
            "text/plain": [
              "5"
            ]
          },
          "execution_count": 35,
          "metadata": {},
          "output_type": "execute_result"
        }
      ],
      "source": [
        "s.pop()"
      ]
    },
    {
      "cell_type": "code",
      "execution_count": null,
      "metadata": {
        "colab": {
          "base_uri": "https://localhost:8080/"
        },
        "id": "eYewkYLGTfw2",
        "outputId": "46c015af-3d12-48de-e56a-fa06fe9c6a51"
      },
      "outputs": [
        {
          "data": {
            "text/plain": [
              "0"
            ]
          },
          "execution_count": 36,
          "metadata": {},
          "output_type": "execute_result"
        }
      ],
      "source": [
        "s.size()"
      ]
    },
    {
      "cell_type": "code",
      "execution_count": null,
      "metadata": {
        "id": "PQE3ZPGRThQn"
      },
      "outputs": [],
      "source": [
        "s.push(2)"
      ]
    },
    {
      "cell_type": "code",
      "execution_count": null,
      "metadata": {
        "colab": {
          "base_uri": "https://localhost:8080/"
        },
        "id": "HpHkMamBTjTA",
        "outputId": "2997787c-50f7-4704-aee8-03c1657bb8b6"
      },
      "outputs": [
        {
          "data": {
            "text/plain": [
              "2"
            ]
          },
          "execution_count": 38,
          "metadata": {},
          "output_type": "execute_result"
        }
      ],
      "source": [
        "s.peek()"
      ]
    },
    {
      "cell_type": "code",
      "execution_count": null,
      "metadata": {
        "colab": {
          "base_uri": "https://localhost:8080/"
        },
        "id": "C_uJgyubTkq3",
        "outputId": "71da5d1c-586a-4112-b05e-95efb2e87dca"
      },
      "outputs": [
        {
          "data": {
            "text/plain": [
              "2"
            ]
          },
          "execution_count": 39,
          "metadata": {},
          "output_type": "execute_result"
        }
      ],
      "source": [
        "s.pop()"
      ]
    },
    {
      "cell_type": "code",
      "execution_count": null,
      "metadata": {
        "colab": {
          "base_uri": "https://localhost:8080/",
          "height": 36
        },
        "id": "BRKfNMoOULBH",
        "outputId": "7447b34d-cdf4-4312-b36a-e49c248f1a87"
      },
      "outputs": [
        {
          "data": {
            "application/vnd.google.colaboratory.intrinsic+json": {
              "type": "string"
            },
            "text/plain": [
              "'Stack is already empty'"
            ]
          },
          "execution_count": 40,
          "metadata": {},
          "output_type": "execute_result"
        }
      ],
      "source": [
        "s.pop()"
      ]
    },
    {
      "cell_type": "code",
      "execution_count": null,
      "metadata": {
        "id": "xktUi_L9UMTG"
      },
      "outputs": [],
      "source": []
    }
  ],
  "metadata": {
    "colab": {
      "provenance": []
    },
    "kernelspec": {
      "display_name": "Python 3",
      "name": "python3"
    },
    "language_info": {
      "name": "python"
    }
  },
  "nbformat": 4,
  "nbformat_minor": 0
}
